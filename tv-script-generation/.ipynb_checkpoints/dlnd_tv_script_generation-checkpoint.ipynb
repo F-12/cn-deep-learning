{
 "cells": [
  {
   "cell_type": "markdown",
   "metadata": {
    "deletable": true,
    "editable": true
   },
   "source": [
    "# TV Script Generation\n",
    "In this project, you'll generate your own [Simpsons](https://en.wikipedia.org/wiki/The_Simpsons) TV scripts using RNNs.  You'll be using part of the [Simpsons dataset](https://www.kaggle.com/wcukierski/the-simpsons-by-the-data) of scripts from 27 seasons.  The Neural Network you'll build will generate a new TV script for a scene at [Moe's Tavern](https://simpsonswiki.com/wiki/Moe's_Tavern).\n",
    "## Get the Data\n",
    "The data is already provided for you.  You'll be using a subset of the original dataset.  It consists of only the scenes in Moe's Tavern.  This doesn't include other versions of the tavern, like \"Moe's Cavern\", \"Flaming Moe's\", \"Uncle Moe's Family Feed-Bag\", etc.."
   ]
  },
  {
   "cell_type": "code",
   "execution_count": 206,
   "metadata": {
    "collapsed": false,
    "deletable": true,
    "editable": true
   },
   "outputs": [],
   "source": [
    "\"\"\"\n",
    "DON'T MODIFY ANYTHING IN THIS CELL\n",
    "\"\"\"\n",
    "import helper\n",
    "\n",
    "data_dir = './data/simpsons/moes_tavern_lines.txt'\n",
    "text = helper.load_data(data_dir)\n",
    "# Ignore notice, since we don't use it for analysing the data\n",
    "text = text[81:]"
   ]
  },
  {
   "cell_type": "markdown",
   "metadata": {
    "deletable": true,
    "editable": true
   },
   "source": [
    "## Explore the Data\n",
    "Play around with `view_sentence_range` to view different parts of the data."
   ]
  },
  {
   "cell_type": "code",
   "execution_count": 207,
   "metadata": {
    "collapsed": false,
    "deletable": true,
    "editable": true
   },
   "outputs": [
    {
     "name": "stdout",
     "output_type": "stream",
     "text": [
      "Dataset Stats\n",
      "Roughly the number of unique words: 11492\n",
      "Number of scenes: 262\n",
      "Average number of sentences in each scene: 15.248091603053435\n",
      "Number of lines: 4257\n",
      "Average number of words in each line: 11.50434578341555\n",
      "\n",
      "The sentences 0 to 10:\n",
      "Moe_Szyslak: (INTO PHONE) Moe's Tavern. Where the elite meet to drink.\n",
      "Bart_Simpson: Eh, yeah, hello, is Mike there? Last name, Rotch.\n",
      "Moe_Szyslak: (INTO PHONE) Hold on, I'll check. (TO BARFLIES) Mike Rotch. Mike Rotch. Hey, has anybody seen Mike Rotch, lately?\n",
      "Moe_Szyslak: (INTO PHONE) Listen you little puke. One of these days I'm gonna catch you, and I'm gonna carve my name on your back with an ice pick.\n",
      "Moe_Szyslak: What's the matter Homer? You're not your normal effervescent self.\n",
      "Homer_Simpson: I got my problems, Moe. Give me another one.\n",
      "Moe_Szyslak: Homer, hey, you should not drink to forget your problems.\n",
      "Barney_Gumble: Yeah, you should only drink to enhance your social skills.\n",
      "\n",
      "\n"
     ]
    }
   ],
   "source": [
    "view_sentence_range = (0, 10)\n",
    "\n",
    "\"\"\"\n",
    "DON'T MODIFY ANYTHING IN THIS CELL\n",
    "\"\"\"\n",
    "import numpy as np\n",
    "\n",
    "print('Dataset Stats')\n",
    "print('Roughly the number of unique words: {}'.format(len({word: None for word in text.split()})))\n",
    "scenes = text.split('\\n\\n')\n",
    "print('Number of scenes: {}'.format(len(scenes)))\n",
    "sentence_count_scene = [scene.count('\\n') for scene in scenes]\n",
    "print('Average number of sentences in each scene: {}'.format(np.average(sentence_count_scene)))\n",
    "\n",
    "sentences = [sentence for scene in scenes for sentence in scene.split('\\n')]\n",
    "print('Number of lines: {}'.format(len(sentences)))\n",
    "word_count_sentence = [len(sentence.split()) for sentence in sentences]\n",
    "print('Average number of words in each line: {}'.format(np.average(word_count_sentence)))\n",
    "\n",
    "print()\n",
    "print('The sentences {} to {}:'.format(*view_sentence_range))\n",
    "print('\\n'.join(text.split('\\n')[view_sentence_range[0]:view_sentence_range[1]]))"
   ]
  },
  {
   "cell_type": "markdown",
   "metadata": {
    "deletable": true,
    "editable": true
   },
   "source": [
    "## Implement Preprocessing Functions\n",
    "The first thing to do to any dataset is preprocessing.  Implement the following preprocessing functions below:\n",
    "- Lookup Table\n",
    "- Tokenize Punctuation\n",
    "\n",
    "### Lookup Table\n",
    "To create a word embedding, you first need to transform the words to ids.  In this function, create two dictionaries:\n",
    "- Dictionary to go from the words to an id, we'll call `vocab_to_int`\n",
    "- Dictionary to go from the id to word, we'll call `int_to_vocab`\n",
    "\n",
    "Return these dictionaries in the following tuple `(vocab_to_int, int_to_vocab)`"
   ]
  },
  {
   "cell_type": "code",
   "execution_count": 238,
   "metadata": {
    "collapsed": false,
    "deletable": true,
    "editable": true
   },
   "outputs": [
    {
     "name": "stdout",
     "output_type": "stream",
     "text": [
      "Tests Passed\n"
     ]
    }
   ],
   "source": [
    "import numpy as np\n",
    "import problem_unittests as tests\n",
    "from collections import Counter\n",
    "\n",
    "def create_lookup_tables(text):\n",
    "    \"\"\"\n",
    "    Create lookup tables for vocabulary\n",
    "    :param text: The text of tv scripts split into words\n",
    "    :return: A tuple of dicts (vocab_to_int, int_to_vocab)\n",
    "    \"\"\"\n",
    "    # TODO: Implement Function\n",
    "    int_to_vocab = {ii: word for ii, word in enumerate(set(text))}\n",
    "    vocab_to_int = {word: ii for ii, word in int_to_vocab.items()}\n",
    "    return vocab_to_int, int_to_vocab\n",
    "\n",
    "\n",
    "\"\"\"\n",
    "DON'T MODIFY ANYTHING IN THIS CELL THAT IS BELOW THIS LINE\n",
    "\"\"\"\n",
    "tests.test_create_lookup_tables(create_lookup_tables)"
   ]
  },
  {
   "cell_type": "markdown",
   "metadata": {
    "deletable": true,
    "editable": true
   },
   "source": [
    "### Tokenize Punctuation\n",
    "We'll be splitting the script into a word array using spaces as delimiters.  However, punctuations like periods and exclamation marks make it hard for the neural network to distinguish between the word \"bye\" and \"bye!\".\n",
    "\n",
    "Implement the function `token_lookup` to return a dict that will be used to tokenize symbols like \"!\" into \"||Exclamation_Mark||\".  Create a dictionary for the following symbols where the symbol is the key and value is the token:\n",
    "- Period ( . )\n",
    "- Comma ( , )\n",
    "- Quotation Mark ( \" )\n",
    "- Semicolon ( ; )\n",
    "- Exclamation mark ( ! )\n",
    "- Question mark ( ? )\n",
    "- Left Parentheses ( ( )\n",
    "- Right Parentheses ( ) )\n",
    "- Dash ( -- )\n",
    "- Return ( \\n )\n",
    "\n",
    "This dictionary will be used to token the symbols and add the delimiter (space) around it.  This separates the symbols as it's own word, making it easier for the neural network to predict on the next word. Make sure you don't use a token that could be confused as a word. Instead of using the token \"dash\", try using something like \"||dash||\"."
   ]
  },
  {
   "cell_type": "code",
   "execution_count": 209,
   "metadata": {
    "collapsed": false,
    "deletable": true,
    "editable": true
   },
   "outputs": [
    {
     "name": "stdout",
     "output_type": "stream",
     "text": [
      "Tests Passed\n"
     ]
    }
   ],
   "source": [
    "def token_lookup():\n",
    "    \"\"\"\n",
    "    Generate a dict to turn punctuation into a token.\n",
    "    :return: Tokenize dictionary where the key is the punctuation and the value is the token\n",
    "    \"\"\"\n",
    "    # TODO: Implement Function\n",
    "    tok_dict = {\n",
    "        '.' : '||Period||',\n",
    "        ',' : '||Comma||',\n",
    "        '\"' : '||Quotation_Mark||',\n",
    "        ';' : '||Semicolon||',\n",
    "        '!' : '||Exclamation_Mark||',\n",
    "        '?' : '||Question_Mark||',\n",
    "        '(' : '||Left_Parentheses||',\n",
    "        ')' : '||Right_Parentheses||',\n",
    "        '--': '||Dash||',\n",
    "        '\\n': '||Return||'\n",
    "    }\n",
    "    return tok_dict\n",
    "\n",
    "\"\"\"\n",
    "DON'T MODIFY ANYTHING IN THIS CELL THAT IS BELOW THIS LINE\n",
    "\"\"\"\n",
    "tests.test_tokenize(token_lookup)"
   ]
  },
  {
   "cell_type": "markdown",
   "metadata": {
    "deletable": true,
    "editable": true
   },
   "source": [
    "## Preprocess all the data and save it\n",
    "Running the code cell below will preprocess all the data and save it to file."
   ]
  },
  {
   "cell_type": "code",
   "execution_count": 210,
   "metadata": {
    "collapsed": false,
    "deletable": true,
    "editable": true
   },
   "outputs": [],
   "source": [
    "\"\"\"\n",
    "DON'T MODIFY ANYTHING IN THIS CELL\n",
    "\"\"\"\n",
    "# Preprocess Training, Validation, and Testing Data\n",
    "helper.preprocess_and_save_data(data_dir, token_lookup, create_lookup_tables)"
   ]
  },
  {
   "cell_type": "markdown",
   "metadata": {
    "deletable": true,
    "editable": true
   },
   "source": [
    "# Check Point\n",
    "This is your first checkpoint. If you ever decide to come back to this notebook or have to restart the notebook, you can start from here. The preprocessed data has been saved to disk."
   ]
  },
  {
   "cell_type": "code",
   "execution_count": 211,
   "metadata": {
    "collapsed": false,
    "deletable": true,
    "editable": true
   },
   "outputs": [],
   "source": [
    "\"\"\"\n",
    "DON'T MODIFY ANYTHING IN THIS CELL\n",
    "\"\"\"\n",
    "import helper\n",
    "import numpy as np\n",
    "import problem_unittests as tests\n",
    "\n",
    "int_text, vocab_to_int, int_to_vocab, token_dict = helper.load_preprocess()"
   ]
  },
  {
   "cell_type": "markdown",
   "metadata": {
    "deletable": true,
    "editable": true
   },
   "source": [
    "## Build the Neural Network\n",
    "You'll build the components necessary to build a RNN by implementing the following functions below:\n",
    "- get_inputs\n",
    "- get_init_cell\n",
    "- get_embed\n",
    "- build_rnn\n",
    "- build_nn\n",
    "- get_batches\n",
    "\n",
    "### Check the Version of TensorFlow and Access to GPU"
   ]
  },
  {
   "cell_type": "code",
   "execution_count": 212,
   "metadata": {
    "collapsed": false,
    "deletable": true,
    "editable": true
   },
   "outputs": [
    {
     "name": "stdout",
     "output_type": "stream",
     "text": [
      "TensorFlow Version: 1.0.0\n"
     ]
    },
    {
     "name": "stderr",
     "output_type": "stream",
     "text": [
      "/usr/local/anaconda3/envs/dlnd/lib/python3.5/site-packages/ipykernel/__main__.py:14: UserWarning: No GPU found. Please use a GPU to train your neural network.\n"
     ]
    }
   ],
   "source": [
    "\"\"\"\n",
    "DON'T MODIFY ANYTHING IN THIS CELL\n",
    "\"\"\"\n",
    "from distutils.version import LooseVersion\n",
    "import warnings\n",
    "import tensorflow as tf\n",
    "\n",
    "# Check TensorFlow Version\n",
    "assert LooseVersion(tf.__version__) >= LooseVersion('1.0'), 'Please use TensorFlow version 1.0 or newer'\n",
    "print('TensorFlow Version: {}'.format(tf.__version__))\n",
    "\n",
    "# Check for a GPU\n",
    "if not tf.test.gpu_device_name():\n",
    "    warnings.warn('No GPU found. Please use a GPU to train your neural network.')\n",
    "else:\n",
    "    print('Default GPU Device: {}'.format(tf.test.gpu_device_name()))"
   ]
  },
  {
   "cell_type": "markdown",
   "metadata": {
    "deletable": true,
    "editable": true
   },
   "source": [
    "### Input\n",
    "Implement the `get_inputs()` function to create TF Placeholders for the Neural Network.  It should create the following placeholders:\n",
    "- Input text placeholder named \"input\" using the [TF Placeholder](https://www.tensorflow.org/api_docs/python/tf/placeholder) `name` parameter.\n",
    "- Targets placeholder\n",
    "- Learning Rate placeholder\n",
    "\n",
    "Return the placeholders in the following tuple `(Input, Targets, LearningRate)`"
   ]
  },
  {
   "cell_type": "code",
   "execution_count": 213,
   "metadata": {
    "collapsed": false,
    "deletable": true,
    "editable": true
   },
   "outputs": [
    {
     "name": "stdout",
     "output_type": "stream",
     "text": [
      "Tests Passed\n"
     ]
    }
   ],
   "source": [
    "def get_inputs():\n",
    "    \"\"\"\n",
    "    Create TF Placeholders for input, targets, and learning rate.\n",
    "    :return: Tuple (input, targets, learning rate)\n",
    "    \"\"\"\n",
    "    # TODO: Implement Function\n",
    "    input = tf.placeholder(tf.int32, [None, None], name=\"input\")\n",
    "    targets = tf.placeholder(tf.int32, [None, None], name=\"targets\")\n",
    "    learning_rate = tf.placeholder(tf.float32,name=\"learning_rate\")\n",
    "    return input,targets,learning_rate\n",
    "\n",
    "\"\"\"\n",
    "DON'T MODIFY ANYTHING IN THIS CELL THAT IS BELOW THIS LINE\n",
    "\"\"\"\n",
    "tests.test_get_inputs(get_inputs)"
   ]
  },
  {
   "cell_type": "markdown",
   "metadata": {
    "deletable": true,
    "editable": true
   },
   "source": [
    "### Build RNN Cell and Initialize\n",
    "Stack one or more [`BasicLSTMCells`](https://www.tensorflow.org/api_docs/python/tf/contrib/rnn/BasicLSTMCell) in a [`MultiRNNCell`](https://www.tensorflow.org/api_docs/python/tf/contrib/rnn/MultiRNNCell).\n",
    "- The Rnn size should be set using `rnn_size`\n",
    "- Initalize Cell State using the MultiRNNCell's [`zero_state()`](https://www.tensorflow.org/api_docs/python/tf/contrib/rnn/MultiRNNCell#zero_state) function\n",
    "    - Apply the name \"initial_state\" to the initial state using [`tf.identity()`](https://www.tensorflow.org/api_docs/python/tf/identity)\n",
    "\n",
    "Return the cell and initial state in the following tuple `(Cell, InitialState)`"
   ]
  },
  {
   "cell_type": "code",
   "execution_count": 214,
   "metadata": {
    "collapsed": false,
    "deletable": true,
    "editable": true
   },
   "outputs": [
    {
     "name": "stdout",
     "output_type": "stream",
     "text": [
      "Tests Passed\n"
     ]
    }
   ],
   "source": [
    "num_layers=1\n",
    "def get_init_cell(batch_size, rnn_size):\n",
    "    \"\"\"\n",
    "    Create an RNN Cell and initialize it.\n",
    "    :param batch_size: Size of batches\n",
    "    :param rnn_size: Size of RNNs\n",
    "    :return: Tuple (cell, initialize state)\n",
    "    \"\"\"\n",
    "    # TODO: Implement Function\n",
    "    make_lstm = lambda size : tf.contrib.rnn.BasicLSTMCell(size)\n",
    "    cell = tf.contrib.rnn.MultiRNNCell([make_lstm(rnn_size) for i in range(num_layers)])\n",
    "    initial_state = tf.identity(cell.zero_state(batch_size, tf.float32),\"initial_state\") \n",
    "    return cell, initial_state\n",
    "\n",
    "\n",
    "\"\"\"\n",
    "DON'T MODIFY ANYTHING IN THIS CELL THAT IS BELOW THIS LINE\n",
    "\"\"\"\n",
    "tests.test_get_init_cell(get_init_cell)"
   ]
  },
  {
   "cell_type": "markdown",
   "metadata": {
    "deletable": true,
    "editable": true
   },
   "source": [
    "### Word Embedding\n",
    "Apply embedding to `input_data` using TensorFlow.  Return the embedded sequence."
   ]
  },
  {
   "cell_type": "code",
   "execution_count": 215,
   "metadata": {
    "collapsed": false,
    "deletable": true,
    "editable": true
   },
   "outputs": [
    {
     "name": "stdout",
     "output_type": "stream",
     "text": [
      "Tests Passed\n"
     ]
    }
   ],
   "source": [
    "def get_embed(input_data, vocab_size, embed_dim):\n",
    "    \"\"\"\n",
    "    Create embedding for <input_data>.\n",
    "    :param input_data: TF placeholder for text input.\n",
    "    :param vocab_size: Number of words in vocabulary.\n",
    "    :param embed_dim: Number of embedding dimensions\n",
    "    :return: Embedded input.\n",
    "    \"\"\"\n",
    "    # TODO: Implement Function\n",
    "    embeddings = tf.Variable(tf.random_uniform((vocab_size, embed_dim), -1.0, 1.0))\n",
    "    embed = tf.nn.embedding_lookup(embeddings, input_data)\n",
    "    return embed\n",
    "\n",
    "\n",
    "\"\"\"\n",
    "DON'T MODIFY ANYTHING IN THIS CELL THAT IS BELOW THIS LINE\n",
    "\"\"\"\n",
    "tests.test_get_embed(get_embed)"
   ]
  },
  {
   "cell_type": "markdown",
   "metadata": {
    "deletable": true,
    "editable": true
   },
   "source": [
    "### Build RNN\n",
    "You created a RNN Cell in the `get_init_cell()` function.  Time to use the cell to create a RNN.\n",
    "- Build the RNN using the [`tf.nn.dynamic_rnn()`](https://www.tensorflow.org/api_docs/python/tf/nn/dynamic_rnn)\n",
    " - Apply the name \"final_state\" to the final state using [`tf.identity()`](https://www.tensorflow.org/api_docs/python/tf/identity)\n",
    "\n",
    "Return the outputs and final_state state in the following tuple `(Outputs, FinalState)` "
   ]
  },
  {
   "cell_type": "code",
   "execution_count": 216,
   "metadata": {
    "collapsed": false,
    "deletable": true,
    "editable": true
   },
   "outputs": [
    {
     "name": "stdout",
     "output_type": "stream",
     "text": [
      "Tests Passed\n"
     ]
    }
   ],
   "source": [
    "def build_rnn(cell, inputs):\n",
    "    \"\"\"\n",
    "    Create a RNN using a RNN Cell\n",
    "    :param cell: RNN Cell\n",
    "    :param inputs: Input text data\n",
    "    :return: Tuple (Outputs, Final State)\n",
    "    \"\"\"\n",
    "    # TODO: Implement Function\n",
    "    outputs, state = tf.nn.dynamic_rnn(cell, inputs, dtype=tf.float32)\n",
    "    state = tf.identity(state, name=\"final_state\")\n",
    "    return outputs, state\n",
    "\n",
    "\n",
    "\"\"\"\n",
    "DON'T MODIFY ANYTHING IN THIS CELL THAT IS BELOW THIS LINE\n",
    "\"\"\"\n",
    "tests.test_build_rnn(build_rnn)"
   ]
  },
  {
   "cell_type": "markdown",
   "metadata": {
    "deletable": true,
    "editable": true
   },
   "source": [
    "### Build the Neural Network\n",
    "Apply the functions you implemented above to:\n",
    "- Apply embedding to `input_data` using your `get_embed(input_data, vocab_size, embed_dim)` function.\n",
    "- Build RNN using `cell` and your `build_rnn(cell, inputs)` function.\n",
    "- Apply a fully connected layer with a linear activation and `vocab_size` as the number of outputs.\n",
    "\n",
    "Return the logits and final state in the following tuple (Logits, FinalState) "
   ]
  },
  {
   "cell_type": "code",
   "execution_count": 217,
   "metadata": {
    "collapsed": false,
    "deletable": true,
    "editable": true
   },
   "outputs": [
    {
     "name": "stdout",
     "output_type": "stream",
     "text": [
      "Tests Passed\n"
     ]
    }
   ],
   "source": [
    "def build_nn(cell, rnn_size, input_data, vocab_size, embed_dim):\n",
    "    \"\"\"\n",
    "    Build part of the neural network\n",
    "    :param cell: RNN cell\n",
    "    :param rnn_size: Size of rnns\n",
    "    :param input_data: Input data\n",
    "    :param vocab_size: Vocabulary size\n",
    "    :param embed_dim: Number of embedding dimensions\n",
    "    :return: Tuple (Logits, FinalState)\n",
    "    \"\"\"\n",
    "    # TODO: Implement Function\n",
    "    embed_input = get_embed(input_data, vocab_size, embed_dim)\n",
    "    rnn_output,final_state = build_rnn(cell, embed_input)\n",
    "    logits = tf.layers.dense(rnn_output, vocab_size, use_bias = True)\n",
    "    return logits, final_state\n",
    "\n",
    "\n",
    "\"\"\"\n",
    "DON'T MODIFY ANYTHING IN THIS CELL THAT IS BELOW THIS LINE\n",
    "\"\"\"\n",
    "tests.test_build_nn(build_nn)"
   ]
  },
  {
   "cell_type": "markdown",
   "metadata": {
    "deletable": true,
    "editable": true
   },
   "source": [
    "### Batches\n",
    "Implement `get_batches` to create batches of input and targets using `int_text`.  The batches should be a Numpy array with the shape `(number of batches, 2, batch size, sequence length)`. Each batch contains two elements:\n",
    "- The first element is a single batch of **input** with the shape `[batch size, sequence length]`\n",
    "- The second element is a single batch of **targets** with the shape `[batch size, sequence length]`\n",
    "\n",
    "If you can't fill the last batch with enough data, drop the last batch.\n",
    "\n",
    "For exmple, `get_batches([1, 2, 3, 4, 5, 6, 7, 8, 9, 10, 11, 12, 13, 14, 15], 2, 3)` would return a Numpy array of the following:\n",
    "```\n",
    "[\n",
    "  # First Batch\n",
    "  [\n",
    "    # Batch of Input\n",
    "    [[ 1  2  3], [ 7  8  9]],\n",
    "    # Batch of targets\n",
    "    [[ 2  3  4], [ 8  9 10]]\n",
    "  ],\n",
    " \n",
    "  # Second Batch\n",
    "  [\n",
    "    # Batch of Input\n",
    "    [[ 4  5  6], [10 11 12]],\n",
    "    # Batch of targets\n",
    "    [[ 5  6  7], [11 12 13]]\n",
    "  ]\n",
    "]\n",
    "```"
   ]
  },
  {
   "cell_type": "code",
   "execution_count": 218,
   "metadata": {
    "collapsed": false,
    "deletable": true,
    "editable": true
   },
   "outputs": [
    {
     "name": "stdout",
     "output_type": "stream",
     "text": [
      "Tests Passed\n"
     ]
    }
   ],
   "source": [
    "def get_batches(int_text, batch_size, seq_length):\n",
    "    \"\"\"\n",
    "    Return batches of input and target\n",
    "    :param int_text: Text with the words replaced by their ids\n",
    "    :param batch_size: The size of batch\n",
    "    :param seq_length: The length of sequence\n",
    "    :return: Batches as a Numpy array\n",
    "    \"\"\"\n",
    "    # TODO: Implement Function\n",
    "    chars_per_batch = batch_size * seq_length\n",
    "    n_batches = len(int_text)//chars_per_batch\n",
    "    arr = int_text[:n_batches * chars_per_batch]\n",
    "    arr = np.reshape(arr, (batch_size, -1))\n",
    "        \n",
    "    def batche_gen():\n",
    "        for n in range(0, arr.shape[1], seq_length):\n",
    "            x = arr[:, n:n+seq_length]\n",
    "            y_temp = arr[:, n+1:n+seq_length+1]\n",
    "            y = np.zeros(x.shape, dtype=x.dtype)\n",
    "            y[:,:y_temp.shape[1]] = y_temp\n",
    "            yield x,y\n",
    "    batches = [(x,y) for x,y in batche_gen()]\n",
    "    return np.array(batches)\n",
    "\n",
    "\"\"\"\n",
    "DON'T MODIFY ANYTHING IN THIS CELL THAT IS BELOW THIS LINE\n",
    "\"\"\"\n",
    "tests.test_get_batches(get_batches)"
   ]
  },
  {
   "cell_type": "markdown",
   "metadata": {
    "deletable": true,
    "editable": true
   },
   "source": [
    "## Neural Network Training\n",
    "### Hyperparameters\n",
    "Tune the following parameters:\n",
    "\n",
    "- Set `num_epochs` to the number of epochs.\n",
    "- Set `batch_size` to the batch size.\n",
    "- Set `rnn_size` to the size of the RNNs.\n",
    "- Set `embed_dim` to the size of the embedding.\n",
    "- Set `seq_length` to the length of sequence.\n",
    "- Set `learning_rate` to the learning rate.\n",
    "- Set `show_every_n_batches` to the number of batches the neural network should print progress."
   ]
  },
  {
   "cell_type": "code",
   "execution_count": 229,
   "metadata": {
    "collapsed": true,
    "deletable": true,
    "editable": true
   },
   "outputs": [],
   "source": [
    "# Number of Epochs\n",
    "num_epochs = 512\n",
    "# Batch Size\n",
    "batch_size = 128\n",
    "# RNN Size\n",
    "rnn_size = 256\n",
    "# Embedding Dimension Size\n",
    "embed_dim = 256\n",
    "# Sequence Length\n",
    "seq_length = 20\n",
    "# Learning Rate\n",
    "learning_rate = 0.001\n",
    "# Show stats for every n number of batches\n",
    "show_every_n_batches = 10\n",
    "\n",
    "\"\"\"\n",
    "DON'T MODIFY ANYTHING IN THIS CELL THAT IS BELOW THIS LINE\n",
    "\"\"\"\n",
    "save_dir = './save'"
   ]
  },
  {
   "cell_type": "markdown",
   "metadata": {
    "deletable": true,
    "editable": true
   },
   "source": [
    "### Build the Graph\n",
    "Build the graph using the neural network you implemented."
   ]
  },
  {
   "cell_type": "code",
   "execution_count": 230,
   "metadata": {
    "collapsed": false,
    "deletable": true,
    "editable": true
   },
   "outputs": [
    {
     "data": {
      "text/plain": [
       "6779"
      ]
     },
     "execution_count": 230,
     "metadata": {},
     "output_type": "execute_result"
    }
   ],
   "source": [
    "len(int_to_vocab)"
   ]
  },
  {
   "cell_type": "code",
   "execution_count": 231,
   "metadata": {
    "collapsed": false,
    "deletable": true,
    "editable": true
   },
   "outputs": [],
   "source": [
    "\"\"\"\n",
    "DON'T MODIFY ANYTHING IN THIS CELL\n",
    "\"\"\"\n",
    "from tensorflow.contrib import seq2seq\n",
    "\n",
    "train_graph = tf.Graph()\n",
    "with train_graph.as_default():\n",
    "    vocab_size = len(int_to_vocab)\n",
    "    input_text, targets, lr = get_inputs()\n",
    "    input_data_shape = tf.shape(input_text)\n",
    "    cell, initial_state = get_init_cell(input_data_shape[0], rnn_size)\n",
    "    logits, final_state = build_nn(cell, rnn_size, input_text, vocab_size, embed_dim)\n",
    "\n",
    "    # Probabilities for generating words\n",
    "    probs = tf.nn.softmax(logits, name='probs')\n",
    "\n",
    "    # Loss function\n",
    "    cost = seq2seq.sequence_loss(\n",
    "        logits,\n",
    "        targets,\n",
    "        tf.ones([input_data_shape[0], input_data_shape[1]]))\n",
    "\n",
    "    # Optimizer\n",
    "    optimizer = tf.train.AdamOptimizer(lr)\n",
    "\n",
    "    # Gradient Clipping\n",
    "    gradients = optimizer.compute_gradients(cost)\n",
    "    capped_gradients = [(tf.clip_by_value(grad, -1., 1.), var) for grad, var in gradients if grad is not None]\n",
    "    train_op = optimizer.apply_gradients(capped_gradients)"
   ]
  },
  {
   "cell_type": "markdown",
   "metadata": {
    "deletable": true,
    "editable": true
   },
   "source": [
    "## Train\n",
    "Train the neural network on the preprocessed data.  If you have a hard time getting a good loss, check the [forms](https://discussions.udacity.com/) to see if anyone is having the same problem."
   ]
  },
  {
   "cell_type": "code",
   "execution_count": 232,
   "metadata": {
    "collapsed": false,
    "deletable": true,
    "editable": true
   },
   "outputs": [
    {
     "name": "stdout",
     "output_type": "stream",
     "text": [
      "Epoch   0 Batch    0/26   train_loss = 8.825\n",
      "Epoch   0 Batch   10/26   train_loss = 8.530\n",
      "Epoch   0 Batch   20/26   train_loss = 7.338\n",
      "Epoch   1 Batch    4/26   train_loss = 6.397\n",
      "Epoch   1 Batch   14/26   train_loss = 6.171\n",
      "Epoch   1 Batch   24/26   train_loss = 6.222\n",
      "Epoch   2 Batch    8/26   train_loss = 6.103\n",
      "Epoch   2 Batch   18/26   train_loss = 6.094\n",
      "Epoch   3 Batch    2/26   train_loss = 6.028\n",
      "Epoch   3 Batch   12/26   train_loss = 6.181\n",
      "Epoch   3 Batch   22/26   train_loss = 5.923\n",
      "Epoch   4 Batch    6/26   train_loss = 5.959\n",
      "Epoch   4 Batch   16/26   train_loss = 5.852\n",
      "Epoch   5 Batch    0/26   train_loss = 5.757\n",
      "Epoch   5 Batch   10/26   train_loss = 5.742\n",
      "Epoch   5 Batch   20/26   train_loss = 5.753\n",
      "Epoch   6 Batch    4/26   train_loss = 5.680\n",
      "Epoch   6 Batch   14/26   train_loss = 5.590\n",
      "Epoch   6 Batch   24/26   train_loss = 5.673\n",
      "Epoch   7 Batch    8/26   train_loss = 5.552\n",
      "Epoch   7 Batch   18/26   train_loss = 5.573\n",
      "Epoch   8 Batch    2/26   train_loss = 5.510\n",
      "Epoch   8 Batch   12/26   train_loss = 5.677\n",
      "Epoch   8 Batch   22/26   train_loss = 5.425\n",
      "Epoch   9 Batch    6/26   train_loss = 5.498\n",
      "Epoch   9 Batch   16/26   train_loss = 5.415\n",
      "Epoch  10 Batch    0/26   train_loss = 5.326\n",
      "Epoch  10 Batch   10/26   train_loss = 5.325\n",
      "Epoch  10 Batch   20/26   train_loss = 5.342\n",
      "Epoch  11 Batch    4/26   train_loss = 5.270\n",
      "Epoch  11 Batch   14/26   train_loss = 5.200\n",
      "Epoch  11 Batch   24/26   train_loss = 5.290\n",
      "Epoch  12 Batch    8/26   train_loss = 5.172\n",
      "Epoch  12 Batch   18/26   train_loss = 5.201\n",
      "Epoch  13 Batch    2/26   train_loss = 5.147\n",
      "Epoch  13 Batch   12/26   train_loss = 5.323\n",
      "Epoch  13 Batch   22/26   train_loss = 5.076\n",
      "Epoch  14 Batch    6/26   train_loss = 5.165\n",
      "Epoch  14 Batch   16/26   train_loss = 5.088\n",
      "Epoch  15 Batch    0/26   train_loss = 5.013\n",
      "Epoch  15 Batch   10/26   train_loss = 5.011\n",
      "Epoch  15 Batch   20/26   train_loss = 5.016\n",
      "Epoch  16 Batch    4/26   train_loss = 4.975\n",
      "Epoch  16 Batch   14/26   train_loss = 4.903\n",
      "Epoch  16 Batch   24/26   train_loss = 4.990\n",
      "Epoch  17 Batch    8/26   train_loss = 4.891\n",
      "Epoch  17 Batch   18/26   train_loss = 4.926\n",
      "Epoch  18 Batch    2/26   train_loss = 4.874\n",
      "Epoch  18 Batch   12/26   train_loss = 5.051\n",
      "Epoch  18 Batch   22/26   train_loss = 4.814\n",
      "Epoch  19 Batch    6/26   train_loss = 4.919\n",
      "Epoch  19 Batch   16/26   train_loss = 4.842\n",
      "Epoch  20 Batch    0/26   train_loss = 4.778\n",
      "Epoch  20 Batch   10/26   train_loss = 4.769\n",
      "Epoch  20 Batch   20/26   train_loss = 4.771\n",
      "Epoch  21 Batch    4/26   train_loss = 4.753\n",
      "Epoch  21 Batch   14/26   train_loss = 4.678\n",
      "Epoch  21 Batch   24/26   train_loss = 4.758\n",
      "Epoch  22 Batch    8/26   train_loss = 4.683\n",
      "Epoch  22 Batch   18/26   train_loss = 4.714\n",
      "Epoch  23 Batch    2/26   train_loss = 4.664\n",
      "Epoch  23 Batch   12/26   train_loss = 4.832\n",
      "Epoch  23 Batch   22/26   train_loss = 4.602\n",
      "Epoch  24 Batch    6/26   train_loss = 4.720\n",
      "Epoch  24 Batch   16/26   train_loss = 4.640\n",
      "Epoch  25 Batch    0/26   train_loss = 4.581\n",
      "Epoch  25 Batch   10/26   train_loss = 4.569\n",
      "Epoch  25 Batch   20/26   train_loss = 4.571\n",
      "Epoch  26 Batch    4/26   train_loss = 4.569\n",
      "Epoch  26 Batch   14/26   train_loss = 4.489\n",
      "Epoch  26 Batch   24/26   train_loss = 4.562\n",
      "Epoch  27 Batch    8/26   train_loss = 4.511\n",
      "Epoch  27 Batch   18/26   train_loss = 4.533\n",
      "Epoch  28 Batch    2/26   train_loss = 4.487\n",
      "Epoch  28 Batch   12/26   train_loss = 4.646\n",
      "Epoch  28 Batch   22/26   train_loss = 4.423\n",
      "Epoch  29 Batch    6/26   train_loss = 4.544\n",
      "Epoch  29 Batch   16/26   train_loss = 4.466\n",
      "Epoch  30 Batch    0/26   train_loss = 4.410\n",
      "Epoch  30 Batch   10/26   train_loss = 4.401\n",
      "Epoch  30 Batch   20/26   train_loss = 4.400\n",
      "Epoch  31 Batch    4/26   train_loss = 4.409\n",
      "Epoch  31 Batch   14/26   train_loss = 4.329\n",
      "Epoch  31 Batch   24/26   train_loss = 4.392\n",
      "Epoch  32 Batch    8/26   train_loss = 4.357\n",
      "Epoch  32 Batch   18/26   train_loss = 4.374\n",
      "Epoch  33 Batch    2/26   train_loss = 4.333\n",
      "Epoch  33 Batch   12/26   train_loss = 4.481\n",
      "Epoch  33 Batch   22/26   train_loss = 4.266\n",
      "Epoch  34 Batch    6/26   train_loss = 4.384\n",
      "Epoch  34 Batch   16/26   train_loss = 4.312\n",
      "Epoch  35 Batch    0/26   train_loss = 4.259\n",
      "Epoch  35 Batch   10/26   train_loss = 4.254\n",
      "Epoch  35 Batch   20/26   train_loss = 4.247\n",
      "Epoch  36 Batch    4/26   train_loss = 4.264\n",
      "Epoch  36 Batch   14/26   train_loss = 4.187\n",
      "Epoch  36 Batch   24/26   train_loss = 4.241\n",
      "Epoch  37 Batch    8/26   train_loss = 4.217\n",
      "Epoch  37 Batch   18/26   train_loss = 4.229\n",
      "Epoch  38 Batch    2/26   train_loss = 4.195\n",
      "Epoch  38 Batch   12/26   train_loss = 4.332\n",
      "Epoch  38 Batch   22/26   train_loss = 4.126\n",
      "Epoch  39 Batch    6/26   train_loss = 4.239\n",
      "Epoch  39 Batch   16/26   train_loss = 4.174\n",
      "Epoch  40 Batch    0/26   train_loss = 4.123\n",
      "Epoch  40 Batch   10/26   train_loss = 4.122\n",
      "Epoch  40 Batch   20/26   train_loss = 4.109\n",
      "Epoch  41 Batch    4/26   train_loss = 4.133\n",
      "Epoch  41 Batch   14/26   train_loss = 4.061\n",
      "Epoch  41 Batch   24/26   train_loss = 4.106\n",
      "Epoch  42 Batch    8/26   train_loss = 4.089\n",
      "Epoch  42 Batch   18/26   train_loss = 4.097\n",
      "Epoch  43 Batch    2/26   train_loss = 4.071\n",
      "Epoch  43 Batch   12/26   train_loss = 4.197\n",
      "Epoch  43 Batch   22/26   train_loss = 4.000\n",
      "Epoch  44 Batch    6/26   train_loss = 4.103\n",
      "Epoch  44 Batch   16/26   train_loss = 4.048\n",
      "Epoch  45 Batch    0/26   train_loss = 3.999\n",
      "Epoch  45 Batch   10/26   train_loss = 4.000\n",
      "Epoch  45 Batch   20/26   train_loss = 3.981\n",
      "Epoch  46 Batch    4/26   train_loss = 4.012\n",
      "Epoch  46 Batch   14/26   train_loss = 3.941\n",
      "Epoch  46 Batch   24/26   train_loss = 3.980\n",
      "Epoch  47 Batch    8/26   train_loss = 3.969\n",
      "Epoch  47 Batch   18/26   train_loss = 3.975\n",
      "Epoch  48 Batch    2/26   train_loss = 3.953\n",
      "Epoch  48 Batch   12/26   train_loss = 4.067\n",
      "Epoch  48 Batch   22/26   train_loss = 3.884\n",
      "Epoch  49 Batch    6/26   train_loss = 3.976\n",
      "Epoch  49 Batch   16/26   train_loss = 3.930\n",
      "Epoch  50 Batch    0/26   train_loss = 3.882\n",
      "Epoch  50 Batch   10/26   train_loss = 3.884\n",
      "Epoch  50 Batch   20/26   train_loss = 3.862\n",
      "Epoch  51 Batch    4/26   train_loss = 3.896\n",
      "Epoch  51 Batch   14/26   train_loss = 3.830\n",
      "Epoch  51 Batch   24/26   train_loss = 3.860\n",
      "Epoch  52 Batch    8/26   train_loss = 3.855\n",
      "Epoch  52 Batch   18/26   train_loss = 3.860\n",
      "Epoch  53 Batch    2/26   train_loss = 3.840\n",
      "Epoch  53 Batch   12/26   train_loss = 3.944\n",
      "Epoch  53 Batch   22/26   train_loss = 3.774\n",
      "Epoch  54 Batch    6/26   train_loss = 3.857\n",
      "Epoch  54 Batch   16/26   train_loss = 3.819\n",
      "Epoch  55 Batch    0/26   train_loss = 3.773\n",
      "Epoch  55 Batch   10/26   train_loss = 3.774\n",
      "Epoch  55 Batch   20/26   train_loss = 3.747\n",
      "Epoch  56 Batch    4/26   train_loss = 3.785\n",
      "Epoch  56 Batch   14/26   train_loss = 3.724\n",
      "Epoch  56 Batch   24/26   train_loss = 3.747\n",
      "Epoch  57 Batch    8/26   train_loss = 3.746\n",
      "Epoch  57 Batch   18/26   train_loss = 3.750\n",
      "Epoch  58 Batch    2/26   train_loss = 3.731\n",
      "Epoch  58 Batch   12/26   train_loss = 3.827\n",
      "Epoch  58 Batch   22/26   train_loss = 3.671\n",
      "Epoch  59 Batch    6/26   train_loss = 3.745\n",
      "Epoch  59 Batch   16/26   train_loss = 3.713\n",
      "Epoch  60 Batch    0/26   train_loss = 3.668\n",
      "Epoch  60 Batch   10/26   train_loss = 3.669\n",
      "Epoch  60 Batch   20/26   train_loss = 3.638\n",
      "Epoch  61 Batch    4/26   train_loss = 3.679\n",
      "Epoch  61 Batch   14/26   train_loss = 3.622\n",
      "Epoch  61 Batch   24/26   train_loss = 3.640\n",
      "Epoch  62 Batch    8/26   train_loss = 3.640\n",
      "Epoch  62 Batch   18/26   train_loss = 3.645\n",
      "Epoch  63 Batch    2/26   train_loss = 3.627\n",
      "Epoch  63 Batch   12/26   train_loss = 3.715\n",
      "Epoch  63 Batch   22/26   train_loss = 3.573\n",
      "Epoch  64 Batch    6/26   train_loss = 3.639\n",
      "Epoch  64 Batch   16/26   train_loss = 3.612\n",
      "Epoch  65 Batch    0/26   train_loss = 3.569\n",
      "Epoch  65 Batch   10/26   train_loss = 3.567\n",
      "Epoch  65 Batch   20/26   train_loss = 3.534\n",
      "Epoch  66 Batch    4/26   train_loss = 3.575\n",
      "Epoch  66 Batch   14/26   train_loss = 3.526\n",
      "Epoch  66 Batch   24/26   train_loss = 3.536\n",
      "Epoch  67 Batch    8/26   train_loss = 3.539\n",
      "Epoch  67 Batch   18/26   train_loss = 3.543\n",
      "Epoch  68 Batch    2/26   train_loss = 3.527\n",
      "Epoch  68 Batch   12/26   train_loss = 3.607\n",
      "Epoch  68 Batch   22/26   train_loss = 3.479\n",
      "Epoch  69 Batch    6/26   train_loss = 3.538\n",
      "Epoch  69 Batch   16/26   train_loss = 3.514\n",
      "Epoch  70 Batch    0/26   train_loss = 3.473\n",
      "Epoch  70 Batch   10/26   train_loss = 3.469\n",
      "Epoch  70 Batch   20/26   train_loss = 3.431\n",
      "Epoch  71 Batch    4/26   train_loss = 3.474\n",
      "Epoch  71 Batch   14/26   train_loss = 3.430\n",
      "Epoch  71 Batch   24/26   train_loss = 3.436\n",
      "Epoch  72 Batch    8/26   train_loss = 3.442\n",
      "Epoch  72 Batch   18/26   train_loss = 3.445\n",
      "Epoch  73 Batch    2/26   train_loss = 3.428\n",
      "Epoch  73 Batch   12/26   train_loss = 3.499\n",
      "Epoch  73 Batch   22/26   train_loss = 3.387\n",
      "Epoch  74 Batch    6/26   train_loss = 3.439\n",
      "Epoch  74 Batch   16/26   train_loss = 3.418\n",
      "Epoch  75 Batch    0/26   train_loss = 3.380\n",
      "Epoch  75 Batch   10/26   train_loss = 3.374\n",
      "Epoch  75 Batch   20/26   train_loss = 3.328\n",
      "Epoch  76 Batch    4/26   train_loss = 3.376\n",
      "Epoch  76 Batch   14/26   train_loss = 3.339\n",
      "Epoch  76 Batch   24/26   train_loss = 3.338\n",
      "Epoch  77 Batch    8/26   train_loss = 3.347\n",
      "Epoch  77 Batch   18/26   train_loss = 3.348\n",
      "Epoch  78 Batch    2/26   train_loss = 3.334\n",
      "Epoch  78 Batch   12/26   train_loss = 3.397\n",
      "Epoch  78 Batch   22/26   train_loss = 3.296\n",
      "Epoch  79 Batch    6/26   train_loss = 3.344\n",
      "Epoch  79 Batch   16/26   train_loss = 3.326\n",
      "Epoch  80 Batch    0/26   train_loss = 3.286\n",
      "Epoch  80 Batch   10/26   train_loss = 3.281\n",
      "Epoch  80 Batch   20/26   train_loss = 3.230\n",
      "Epoch  81 Batch    4/26   train_loss = 3.280\n",
      "Epoch  81 Batch   14/26   train_loss = 3.247\n",
      "Epoch  81 Batch   24/26   train_loss = 3.243\n",
      "Epoch  82 Batch    8/26   train_loss = 3.254\n",
      "Epoch  82 Batch   18/26   train_loss = 3.254\n",
      "Epoch  83 Batch    2/26   train_loss = 3.241\n",
      "Epoch  83 Batch   12/26   train_loss = 3.294\n",
      "Epoch  83 Batch   22/26   train_loss = 3.206\n",
      "Epoch  84 Batch    6/26   train_loss = 3.250\n",
      "Epoch  84 Batch   16/26   train_loss = 3.237\n",
      "Epoch  85 Batch    0/26   train_loss = 3.199\n",
      "Epoch  85 Batch   10/26   train_loss = 3.189\n",
      "Epoch  85 Batch   20/26   train_loss = 3.134\n",
      "Epoch  86 Batch    4/26   train_loss = 3.187\n",
      "Epoch  86 Batch   14/26   train_loss = 3.161\n",
      "Epoch  86 Batch   24/26   train_loss = 3.152\n",
      "Epoch  87 Batch    8/26   train_loss = 3.163\n",
      "Epoch  87 Batch   18/26   train_loss = 3.163\n",
      "Epoch  88 Batch    2/26   train_loss = 3.153\n",
      "Epoch  88 Batch   12/26   train_loss = 3.197\n",
      "Epoch  88 Batch   22/26   train_loss = 3.119\n",
      "Epoch  89 Batch    6/26   train_loss = 3.157\n",
      "Epoch  89 Batch   16/26   train_loss = 3.150\n",
      "Epoch  90 Batch    0/26   train_loss = 3.113\n",
      "Epoch  90 Batch   10/26   train_loss = 3.106\n",
      "Epoch  90 Batch   20/26   train_loss = 3.043\n",
      "Epoch  91 Batch    4/26   train_loss = 3.097\n",
      "Epoch  91 Batch   14/26   train_loss = 3.078\n",
      "Epoch  91 Batch   24/26   train_loss = 3.063\n",
      "Epoch  92 Batch    8/26   train_loss = 3.078\n",
      "Epoch  92 Batch   18/26   train_loss = 3.077\n",
      "Epoch  93 Batch    2/26   train_loss = 3.072\n",
      "Epoch  93 Batch   12/26   train_loss = 3.107\n",
      "Epoch  93 Batch   22/26   train_loss = 3.038\n",
      "Epoch  94 Batch    6/26   train_loss = 3.069\n",
      "Epoch  94 Batch   16/26   train_loss = 3.066\n",
      "Epoch  95 Batch    0/26   train_loss = 3.029\n",
      "Epoch  95 Batch   10/26   train_loss = 3.019\n",
      "Epoch  95 Batch   20/26   train_loss = 2.957\n",
      "Epoch  96 Batch    4/26   train_loss = 3.012\n",
      "Epoch  96 Batch   14/26   train_loss = 2.996\n",
      "Epoch  96 Batch   24/26   train_loss = 2.981\n",
      "Epoch  97 Batch    8/26   train_loss = 2.989\n",
      "Epoch  97 Batch   18/26   train_loss = 2.993\n",
      "Epoch  98 Batch    2/26   train_loss = 2.987\n",
      "Epoch  98 Batch   12/26   train_loss = 3.016\n",
      "Epoch  98 Batch   22/26   train_loss = 2.952\n",
      "Epoch  99 Batch    6/26   train_loss = 2.983\n",
      "Epoch  99 Batch   16/26   train_loss = 2.986\n",
      "Epoch 100 Batch    0/26   train_loss = 2.948\n",
      "Epoch 100 Batch   10/26   train_loss = 2.936\n",
      "Epoch 100 Batch   20/26   train_loss = 2.873\n",
      "Epoch 101 Batch    4/26   train_loss = 2.931\n",
      "Epoch 101 Batch   14/26   train_loss = 2.917\n",
      "Epoch 101 Batch   24/26   train_loss = 2.897\n",
      "Epoch 102 Batch    8/26   train_loss = 2.907\n",
      "Epoch 102 Batch   18/26   train_loss = 2.913\n",
      "Epoch 103 Batch    2/26   train_loss = 2.911\n",
      "Epoch 103 Batch   12/26   train_loss = 2.931\n",
      "Epoch 103 Batch   22/26   train_loss = 2.876\n",
      "Epoch 104 Batch    6/26   train_loss = 2.900\n",
      "Epoch 104 Batch   16/26   train_loss = 2.909\n",
      "Epoch 105 Batch    0/26   train_loss = 2.871\n",
      "Epoch 105 Batch   10/26   train_loss = 2.855\n",
      "Epoch 105 Batch   20/26   train_loss = 2.795\n",
      "Epoch 106 Batch    4/26   train_loss = 2.855\n",
      "Epoch 106 Batch   14/26   train_loss = 2.843\n",
      "Epoch 106 Batch   24/26   train_loss = 2.821\n",
      "Epoch 107 Batch    8/26   train_loss = 2.830\n",
      "Epoch 107 Batch   18/26   train_loss = 2.836\n",
      "Epoch 108 Batch    2/26   train_loss = 2.835\n",
      "Epoch 108 Batch   12/26   train_loss = 2.850\n",
      "Epoch 108 Batch   22/26   train_loss = 2.797\n",
      "Epoch 109 Batch    6/26   train_loss = 2.824\n",
      "Epoch 109 Batch   16/26   train_loss = 2.837\n",
      "Epoch 110 Batch    0/26   train_loss = 2.796\n",
      "Epoch 110 Batch   10/26   train_loss = 2.784\n",
      "Epoch 110 Batch   20/26   train_loss = 2.723\n",
      "Epoch 111 Batch    4/26   train_loss = 2.780\n",
      "Epoch 111 Batch   14/26   train_loss = 2.773\n",
      "Epoch 111 Batch   24/26   train_loss = 2.744\n",
      "Epoch 112 Batch    8/26   train_loss = 2.755\n",
      "Epoch 112 Batch   18/26   train_loss = 2.762\n",
      "Epoch 113 Batch    2/26   train_loss = 2.766\n",
      "Epoch 113 Batch   12/26   train_loss = 2.774\n",
      "Epoch 113 Batch   22/26   train_loss = 2.728\n",
      "Epoch 114 Batch    6/26   train_loss = 2.750\n",
      "Epoch 114 Batch   16/26   train_loss = 2.773\n",
      "Epoch 115 Batch    0/26   train_loss = 2.733\n",
      "Epoch 115 Batch   10/26   train_loss = 2.707\n",
      "Epoch 115 Batch   20/26   train_loss = 2.652\n",
      "Epoch 116 Batch    4/26   train_loss = 2.707\n",
      "Epoch 116 Batch   14/26   train_loss = 2.701\n",
      "Epoch 116 Batch   24/26   train_loss = 2.673\n",
      "Epoch 117 Batch    8/26   train_loss = 2.688\n",
      "Epoch 117 Batch   18/26   train_loss = 2.690\n",
      "Epoch 118 Batch    2/26   train_loss = 2.693\n",
      "Epoch 118 Batch   12/26   train_loss = 2.693\n",
      "Epoch 118 Batch   22/26   train_loss = 2.654\n",
      "Epoch 119 Batch    6/26   train_loss = 2.673\n",
      "Epoch 119 Batch   16/26   train_loss = 2.697\n",
      "Epoch 120 Batch    0/26   train_loss = 2.655\n",
      "Epoch 120 Batch   10/26   train_loss = 2.636\n",
      "Epoch 120 Batch   20/26   train_loss = 2.583\n",
      "Epoch 121 Batch    4/26   train_loss = 2.635\n",
      "Epoch 121 Batch   14/26   train_loss = 2.630\n",
      "Epoch 121 Batch   24/26   train_loss = 2.599\n",
      "Epoch 122 Batch    8/26   train_loss = 2.615\n",
      "Epoch 122 Batch   18/26   train_loss = 2.618\n",
      "Epoch 123 Batch    2/26   train_loss = 2.623\n",
      "Epoch 123 Batch   12/26   train_loss = 2.616\n",
      "Epoch 123 Batch   22/26   train_loss = 2.585\n",
      "Epoch 124 Batch    6/26   train_loss = 2.599\n",
      "Epoch 124 Batch   16/26   train_loss = 2.626\n",
      "Epoch 125 Batch    0/26   train_loss = 2.586\n",
      "Epoch 125 Batch   10/26   train_loss = 2.570\n",
      "Epoch 125 Batch   20/26   train_loss = 2.514\n",
      "Epoch 126 Batch    4/26   train_loss = 2.562\n",
      "Epoch 126 Batch   14/26   train_loss = 2.559\n",
      "Epoch 126 Batch   24/26   train_loss = 2.535\n",
      "Epoch 127 Batch    8/26   train_loss = 2.547\n",
      "Epoch 127 Batch   18/26   train_loss = 2.544\n",
      "Epoch 128 Batch    2/26   train_loss = 2.557\n",
      "Epoch 128 Batch   12/26   train_loss = 2.548\n",
      "Epoch 128 Batch   22/26   train_loss = 2.516\n",
      "Epoch 129 Batch    6/26   train_loss = 2.524\n",
      "Epoch 129 Batch   16/26   train_loss = 2.558\n",
      "Epoch 130 Batch    0/26   train_loss = 2.526\n",
      "Epoch 130 Batch   10/26   train_loss = 2.503\n",
      "Epoch 130 Batch   20/26   train_loss = 2.442\n",
      "Epoch 131 Batch    4/26   train_loss = 2.495\n",
      "Epoch 131 Batch   14/26   train_loss = 2.496\n",
      "Epoch 131 Batch   24/26   train_loss = 2.469\n",
      "Epoch 132 Batch    8/26   train_loss = 2.473\n",
      "Epoch 132 Batch   18/26   train_loss = 2.473\n",
      "Epoch 133 Batch    2/26   train_loss = 2.500\n",
      "Epoch 133 Batch   12/26   train_loss = 2.481\n",
      "Epoch 133 Batch   22/26   train_loss = 2.447\n",
      "Epoch 134 Batch    6/26   train_loss = 2.456\n",
      "Epoch 134 Batch   16/26   train_loss = 2.505\n",
      "Epoch 135 Batch    0/26   train_loss = 2.473\n",
      "Epoch 135 Batch   10/26   train_loss = 2.443\n",
      "Epoch 135 Batch   20/26   train_loss = 2.380\n",
      "Epoch 136 Batch    4/26   train_loss = 2.439\n",
      "Epoch 136 Batch   14/26   train_loss = 2.431\n",
      "Epoch 136 Batch   24/26   train_loss = 2.397\n",
      "Epoch 137 Batch    8/26   train_loss = 2.404\n",
      "Epoch 137 Batch   18/26   train_loss = 2.414\n",
      "Epoch 138 Batch    2/26   train_loss = 2.439\n",
      "Epoch 138 Batch   12/26   train_loss = 2.410\n",
      "Epoch 138 Batch   22/26   train_loss = 2.381\n",
      "Epoch 139 Batch    6/26   train_loss = 2.392\n",
      "Epoch 139 Batch   16/26   train_loss = 2.439\n",
      "Epoch 140 Batch    0/26   train_loss = 2.400\n",
      "Epoch 140 Batch   10/26   train_loss = 2.373\n",
      "Epoch 140 Batch   20/26   train_loss = 2.314\n",
      "Epoch 141 Batch    4/26   train_loss = 2.375\n",
      "Epoch 141 Batch   14/26   train_loss = 2.359\n",
      "Epoch 141 Batch   24/26   train_loss = 2.331\n",
      "Epoch 142 Batch    8/26   train_loss = 2.337\n",
      "Epoch 142 Batch   18/26   train_loss = 2.343\n",
      "Epoch 143 Batch    2/26   train_loss = 2.374\n",
      "Epoch 143 Batch   12/26   train_loss = 2.335\n",
      "Epoch 143 Batch   22/26   train_loss = 2.308\n",
      "Epoch 144 Batch    6/26   train_loss = 2.322\n",
      "Epoch 144 Batch   16/26   train_loss = 2.366\n",
      "Epoch 145 Batch    0/26   train_loss = 2.327\n",
      "Epoch 145 Batch   10/26   train_loss = 2.305\n",
      "Epoch 145 Batch   20/26   train_loss = 2.250\n",
      "Epoch 146 Batch    4/26   train_loss = 2.308\n",
      "Epoch 146 Batch   14/26   train_loss = 2.289\n",
      "Epoch 146 Batch   24/26   train_loss = 2.264\n",
      "Epoch 147 Batch    8/26   train_loss = 2.269\n",
      "Epoch 147 Batch   18/26   train_loss = 2.272\n",
      "Epoch 148 Batch    2/26   train_loss = 2.309\n",
      "Epoch 148 Batch   12/26   train_loss = 2.263\n",
      "Epoch 148 Batch   22/26   train_loss = 2.245\n",
      "Epoch 149 Batch    6/26   train_loss = 2.251\n",
      "Epoch 149 Batch   16/26   train_loss = 2.292\n",
      "Epoch 150 Batch    0/26   train_loss = 2.268\n",
      "Epoch 150 Batch   10/26   train_loss = 2.241\n",
      "Epoch 150 Batch   20/26   train_loss = 2.185\n",
      "Epoch 151 Batch    4/26   train_loss = 2.242\n",
      "Epoch 151 Batch   14/26   train_loss = 2.220\n",
      "Epoch 151 Batch   24/26   train_loss = 2.201\n",
      "Epoch 152 Batch    8/26   train_loss = 2.205\n",
      "Epoch 152 Batch   18/26   train_loss = 2.205\n",
      "Epoch 153 Batch    2/26   train_loss = 2.251\n",
      "Epoch 153 Batch   12/26   train_loss = 2.209\n",
      "Epoch 153 Batch   22/26   train_loss = 2.182\n",
      "Epoch 154 Batch    6/26   train_loss = 2.188\n",
      "Epoch 154 Batch   16/26   train_loss = 2.237\n",
      "Epoch 155 Batch    0/26   train_loss = 2.204\n",
      "Epoch 155 Batch   10/26   train_loss = 2.178\n",
      "Epoch 155 Batch   20/26   train_loss = 2.127\n",
      "Epoch 156 Batch    4/26   train_loss = 2.183\n",
      "Epoch 156 Batch   14/26   train_loss = 2.159\n",
      "Epoch 156 Batch   24/26   train_loss = 2.144\n",
      "Epoch 157 Batch    8/26   train_loss = 2.144\n",
      "Epoch 157 Batch   18/26   train_loss = 2.141\n",
      "Epoch 158 Batch    2/26   train_loss = 2.200\n",
      "Epoch 158 Batch   12/26   train_loss = 2.141\n",
      "Epoch 158 Batch   22/26   train_loss = 2.121\n",
      "Epoch 159 Batch    6/26   train_loss = 2.124\n",
      "Epoch 159 Batch   16/26   train_loss = 2.172\n",
      "Epoch 160 Batch    0/26   train_loss = 2.145\n",
      "Epoch 160 Batch   10/26   train_loss = 2.119\n",
      "Epoch 160 Batch   20/26   train_loss = 2.072\n",
      "Epoch 161 Batch    4/26   train_loss = 2.124\n",
      "Epoch 161 Batch   14/26   train_loss = 2.107\n",
      "Epoch 161 Batch   24/26   train_loss = 2.077\n",
      "Epoch 162 Batch    8/26   train_loss = 2.087\n",
      "Epoch 162 Batch   18/26   train_loss = 2.089\n",
      "Epoch 163 Batch    2/26   train_loss = 2.135\n",
      "Epoch 163 Batch   12/26   train_loss = 2.073\n",
      "Epoch 163 Batch   22/26   train_loss = 2.054\n",
      "Epoch 164 Batch    6/26   train_loss = 2.055\n",
      "Epoch 164 Batch   16/26   train_loss = 2.110\n",
      "Epoch 165 Batch    0/26   train_loss = 2.090\n",
      "Epoch 165 Batch   10/26   train_loss = 2.060\n",
      "Epoch 165 Batch   20/26   train_loss = 2.008\n",
      "Epoch 166 Batch    4/26   train_loss = 2.076\n",
      "Epoch 166 Batch   14/26   train_loss = 2.045\n",
      "Epoch 166 Batch   24/26   train_loss = 2.011\n",
      "Epoch 167 Batch    8/26   train_loss = 2.029\n",
      "Epoch 167 Batch   18/26   train_loss = 2.026\n",
      "Epoch 168 Batch    2/26   train_loss = 2.078\n",
      "Epoch 168 Batch   12/26   train_loss = 2.007\n",
      "Epoch 168 Batch   22/26   train_loss = 1.999\n",
      "Epoch 169 Batch    6/26   train_loss = 1.993\n",
      "Epoch 169 Batch   16/26   train_loss = 2.055\n",
      "Epoch 170 Batch    0/26   train_loss = 2.033\n",
      "Epoch 170 Batch   10/26   train_loss = 1.997\n",
      "Epoch 170 Batch   20/26   train_loss = 1.963\n",
      "Epoch 171 Batch    4/26   train_loss = 2.009\n",
      "Epoch 171 Batch   14/26   train_loss = 1.977\n",
      "Epoch 171 Batch   24/26   train_loss = 1.953\n",
      "Epoch 172 Batch    8/26   train_loss = 1.963\n",
      "Epoch 172 Batch   18/26   train_loss = 1.962\n",
      "Epoch 173 Batch    2/26   train_loss = 2.018\n",
      "Epoch 173 Batch   12/26   train_loss = 1.955\n",
      "Epoch 173 Batch   22/26   train_loss = 1.940\n",
      "Epoch 174 Batch    6/26   train_loss = 1.930\n",
      "Epoch 174 Batch   16/26   train_loss = 2.004\n",
      "Epoch 175 Batch    0/26   train_loss = 1.970\n",
      "Epoch 175 Batch   10/26   train_loss = 1.939\n",
      "Epoch 175 Batch   20/26   train_loss = 1.906\n",
      "Epoch 176 Batch    4/26   train_loss = 1.949\n",
      "Epoch 176 Batch   14/26   train_loss = 1.922\n",
      "Epoch 176 Batch   24/26   train_loss = 1.897\n",
      "Epoch 177 Batch    8/26   train_loss = 1.908\n",
      "Epoch 177 Batch   18/26   train_loss = 1.906\n",
      "Epoch 178 Batch    2/26   train_loss = 1.969\n",
      "Epoch 178 Batch   12/26   train_loss = 1.901\n",
      "Epoch 178 Batch   22/26   train_loss = 1.885\n",
      "Epoch 179 Batch    6/26   train_loss = 1.878\n",
      "Epoch 179 Batch   16/26   train_loss = 1.944\n",
      "Epoch 180 Batch    0/26   train_loss = 1.916\n",
      "Epoch 180 Batch   10/26   train_loss = 1.881\n",
      "Epoch 180 Batch   20/26   train_loss = 1.845\n",
      "Epoch 181 Batch    4/26   train_loss = 1.897\n",
      "Epoch 181 Batch   14/26   train_loss = 1.865\n",
      "Epoch 181 Batch   24/26   train_loss = 1.843\n",
      "Epoch 182 Batch    8/26   train_loss = 1.855\n",
      "Epoch 182 Batch   18/26   train_loss = 1.855\n",
      "Epoch 183 Batch    2/26   train_loss = 1.930\n",
      "Epoch 183 Batch   12/26   train_loss = 1.841\n",
      "Epoch 183 Batch   22/26   train_loss = 1.831\n",
      "Epoch 184 Batch    6/26   train_loss = 1.833\n",
      "Epoch 184 Batch   16/26   train_loss = 1.889\n",
      "Epoch 185 Batch    0/26   train_loss = 1.862\n",
      "Epoch 185 Batch   10/26   train_loss = 1.829\n",
      "Epoch 185 Batch   20/26   train_loss = 1.797\n",
      "Epoch 186 Batch    4/26   train_loss = 1.847\n",
      "Epoch 186 Batch   14/26   train_loss = 1.813\n",
      "Epoch 186 Batch   24/26   train_loss = 1.789\n",
      "Epoch 187 Batch    8/26   train_loss = 1.804\n",
      "Epoch 187 Batch   18/26   train_loss = 1.801\n",
      "Epoch 188 Batch    2/26   train_loss = 1.872\n",
      "Epoch 188 Batch   12/26   train_loss = 1.791\n",
      "Epoch 188 Batch   22/26   train_loss = 1.783\n",
      "Epoch 189 Batch    6/26   train_loss = 1.774\n",
      "Epoch 189 Batch   16/26   train_loss = 1.842\n",
      "Epoch 190 Batch    0/26   train_loss = 1.814\n",
      "Epoch 190 Batch   10/26   train_loss = 1.779\n",
      "Epoch 190 Batch   20/26   train_loss = 1.754\n",
      "Epoch 191 Batch    4/26   train_loss = 1.800\n",
      "Epoch 191 Batch   14/26   train_loss = 1.771\n",
      "Epoch 191 Batch   24/26   train_loss = 1.735\n",
      "Epoch 192 Batch    8/26   train_loss = 1.752\n",
      "Epoch 192 Batch   18/26   train_loss = 1.753\n",
      "Epoch 193 Batch    2/26   train_loss = 1.820\n",
      "Epoch 193 Batch   12/26   train_loss = 1.731\n",
      "Epoch 193 Batch   22/26   train_loss = 1.731\n",
      "Epoch 194 Batch    6/26   train_loss = 1.723\n",
      "Epoch 194 Batch   16/26   train_loss = 1.787\n",
      "Epoch 195 Batch    0/26   train_loss = 1.763\n",
      "Epoch 195 Batch   10/26   train_loss = 1.726\n",
      "Epoch 195 Batch   20/26   train_loss = 1.703\n",
      "Epoch 196 Batch    4/26   train_loss = 1.753\n",
      "Epoch 196 Batch   14/26   train_loss = 1.723\n",
      "Epoch 196 Batch   24/26   train_loss = 1.681\n",
      "Epoch 197 Batch    8/26   train_loss = 1.703\n",
      "Epoch 197 Batch   18/26   train_loss = 1.714\n",
      "Epoch 198 Batch    2/26   train_loss = 1.770\n",
      "Epoch 198 Batch   12/26   train_loss = 1.684\n",
      "Epoch 198 Batch   22/26   train_loss = 1.686\n",
      "Epoch 199 Batch    6/26   train_loss = 1.679\n",
      "Epoch 199 Batch   16/26   train_loss = 1.742\n",
      "Epoch 200 Batch    0/26   train_loss = 1.714\n",
      "Epoch 200 Batch   10/26   train_loss = 1.685\n",
      "Epoch 200 Batch   20/26   train_loss = 1.663\n",
      "Epoch 201 Batch    4/26   train_loss = 1.714\n",
      "Epoch 201 Batch   14/26   train_loss = 1.669\n",
      "Epoch 201 Batch   24/26   train_loss = 1.641\n",
      "Epoch 202 Batch    8/26   train_loss = 1.675\n",
      "Epoch 202 Batch   18/26   train_loss = 1.676\n",
      "Epoch 203 Batch    2/26   train_loss = 1.726\n",
      "Epoch 203 Batch   12/26   train_loss = 1.645\n",
      "Epoch 203 Batch   22/26   train_loss = 1.654\n",
      "Epoch 204 Batch    6/26   train_loss = 1.630\n",
      "Epoch 204 Batch   16/26   train_loss = 1.693\n",
      "Epoch 205 Batch    0/26   train_loss = 1.671\n",
      "Epoch 205 Batch   10/26   train_loss = 1.643\n",
      "Epoch 205 Batch   20/26   train_loss = 1.630\n",
      "Epoch 206 Batch    4/26   train_loss = 1.663\n",
      "Epoch 206 Batch   14/26   train_loss = 1.630\n",
      "Epoch 206 Batch   24/26   train_loss = 1.611\n",
      "Epoch 207 Batch    8/26   train_loss = 1.636\n",
      "Epoch 207 Batch   18/26   train_loss = 1.636\n",
      "Epoch 208 Batch    2/26   train_loss = 1.696\n",
      "Epoch 208 Batch   12/26   train_loss = 1.615\n",
      "Epoch 208 Batch   22/26   train_loss = 1.646\n",
      "Epoch 209 Batch    6/26   train_loss = 1.611\n",
      "Epoch 209 Batch   16/26   train_loss = 1.667\n",
      "Epoch 210 Batch    0/26   train_loss = 1.654\n",
      "Epoch 210 Batch   10/26   train_loss = 1.638\n",
      "Epoch 210 Batch   20/26   train_loss = 1.613\n",
      "Epoch 211 Batch    4/26   train_loss = 1.635\n",
      "Epoch 211 Batch   14/26   train_loss = 1.607\n",
      "Epoch 211 Batch   24/26   train_loss = 1.603\n",
      "Epoch 212 Batch    8/26   train_loss = 1.622\n",
      "Epoch 212 Batch   18/26   train_loss = 1.596\n",
      "Epoch 213 Batch    2/26   train_loss = 1.676\n",
      "Epoch 213 Batch   12/26   train_loss = 1.629\n",
      "Epoch 213 Batch   22/26   train_loss = 1.612\n",
      "Epoch 214 Batch    6/26   train_loss = 1.561\n",
      "Epoch 214 Batch   16/26   train_loss = 1.659\n",
      "Epoch 215 Batch    0/26   train_loss = 1.679\n",
      "Epoch 215 Batch   10/26   train_loss = 1.605\n",
      "Epoch 215 Batch   20/26   train_loss = 1.562\n",
      "Epoch 216 Batch    4/26   train_loss = 1.629\n",
      "Epoch 216 Batch   14/26   train_loss = 1.608\n",
      "Epoch 216 Batch   24/26   train_loss = 1.548\n",
      "Epoch 217 Batch    8/26   train_loss = 1.580\n",
      "Epoch 217 Batch   18/26   train_loss = 1.598\n",
      "Epoch 218 Batch    2/26   train_loss = 1.655\n",
      "Epoch 218 Batch   12/26   train_loss = 1.568\n",
      "Epoch 218 Batch   22/26   train_loss = 1.577\n",
      "Epoch 219 Batch    6/26   train_loss = 1.539\n",
      "Epoch 219 Batch   16/26   train_loss = 1.610\n",
      "Epoch 220 Batch    0/26   train_loss = 1.599\n",
      "Epoch 220 Batch   10/26   train_loss = 1.565\n",
      "Epoch 220 Batch   20/26   train_loss = 1.508\n",
      "Epoch 221 Batch    4/26   train_loss = 1.554\n",
      "Epoch 221 Batch   14/26   train_loss = 1.545\n",
      "Epoch 221 Batch   24/26   train_loss = 1.495\n",
      "Epoch 222 Batch    8/26   train_loss = 1.502\n",
      "Epoch 222 Batch   18/26   train_loss = 1.512\n",
      "Epoch 223 Batch    2/26   train_loss = 1.594\n",
      "Epoch 223 Batch   12/26   train_loss = 1.504\n",
      "Epoch 223 Batch   22/26   train_loss = 1.484\n",
      "Epoch 224 Batch    6/26   train_loss = 1.465\n",
      "Epoch 224 Batch   16/26   train_loss = 1.554\n",
      "Epoch 225 Batch    0/26   train_loss = 1.525\n",
      "Epoch 225 Batch   10/26   train_loss = 1.493\n",
      "Epoch 225 Batch   20/26   train_loss = 1.460\n",
      "Epoch 226 Batch    4/26   train_loss = 1.507\n",
      "Epoch 226 Batch   14/26   train_loss = 1.486\n",
      "Epoch 226 Batch   24/26   train_loss = 1.443\n",
      "Epoch 227 Batch    8/26   train_loss = 1.457\n",
      "Epoch 227 Batch   18/26   train_loss = 1.466\n",
      "Epoch 228 Batch    2/26   train_loss = 1.545\n",
      "Epoch 228 Batch   12/26   train_loss = 1.454\n",
      "Epoch 228 Batch   22/26   train_loss = 1.444\n",
      "Epoch 229 Batch    6/26   train_loss = 1.421\n",
      "Epoch 229 Batch   16/26   train_loss = 1.510\n",
      "Epoch 230 Batch    0/26   train_loss = 1.491\n",
      "Epoch 230 Batch   10/26   train_loss = 1.442\n",
      "Epoch 230 Batch   20/26   train_loss = 1.414\n",
      "Epoch 231 Batch    4/26   train_loss = 1.465\n",
      "Epoch 231 Batch   14/26   train_loss = 1.433\n",
      "Epoch 231 Batch   24/26   train_loss = 1.387\n",
      "Epoch 232 Batch    8/26   train_loss = 1.414\n",
      "Epoch 232 Batch   18/26   train_loss = 1.429\n",
      "Epoch 233 Batch    2/26   train_loss = 1.498\n",
      "Epoch 233 Batch   12/26   train_loss = 1.399\n",
      "Epoch 233 Batch   22/26   train_loss = 1.401\n",
      "Epoch 234 Batch    6/26   train_loss = 1.384\n",
      "Epoch 234 Batch   16/26   train_loss = 1.456\n",
      "Epoch 235 Batch    0/26   train_loss = 1.440\n",
      "Epoch 235 Batch   10/26   train_loss = 1.409\n",
      "Epoch 235 Batch   20/26   train_loss = 1.374\n",
      "Epoch 236 Batch    4/26   train_loss = 1.419\n",
      "Epoch 236 Batch   14/26   train_loss = 1.384\n",
      "Epoch 236 Batch   24/26   train_loss = 1.347\n",
      "Epoch 237 Batch    8/26   train_loss = 1.368\n",
      "Epoch 237 Batch   18/26   train_loss = 1.379\n",
      "Epoch 238 Batch    2/26   train_loss = 1.456\n",
      "Epoch 238 Batch   12/26   train_loss = 1.356\n",
      "Epoch 238 Batch   22/26   train_loss = 1.347\n",
      "Epoch 239 Batch    6/26   train_loss = 1.331\n",
      "Epoch 239 Batch   16/26   train_loss = 1.422\n",
      "Epoch 240 Batch    0/26   train_loss = 1.390\n",
      "Epoch 240 Batch   10/26   train_loss = 1.354\n",
      "Epoch 240 Batch   20/26   train_loss = 1.333\n",
      "Epoch 241 Batch    4/26   train_loss = 1.378\n",
      "Epoch 241 Batch   14/26   train_loss = 1.343\n",
      "Epoch 241 Batch   24/26   train_loss = 1.301\n",
      "Epoch 242 Batch    8/26   train_loss = 1.329\n",
      "Epoch 242 Batch   18/26   train_loss = 1.343\n",
      "Epoch 243 Batch    2/26   train_loss = 1.407\n",
      "Epoch 243 Batch   12/26   train_loss = 1.309\n",
      "Epoch 243 Batch   22/26   train_loss = 1.313\n",
      "Epoch 244 Batch    6/26   train_loss = 1.295\n",
      "Epoch 244 Batch   16/26   train_loss = 1.377\n",
      "Epoch 245 Batch    0/26   train_loss = 1.346\n",
      "Epoch 245 Batch   10/26   train_loss = 1.317\n",
      "Epoch 245 Batch   20/26   train_loss = 1.304\n",
      "Epoch 246 Batch    4/26   train_loss = 1.335\n",
      "Epoch 246 Batch   14/26   train_loss = 1.300\n",
      "Epoch 246 Batch   24/26   train_loss = 1.265\n",
      "Epoch 247 Batch    8/26   train_loss = 1.295\n",
      "Epoch 247 Batch   18/26   train_loss = 1.302\n",
      "Epoch 248 Batch    2/26   train_loss = 1.358\n",
      "Epoch 248 Batch   12/26   train_loss = 1.269\n",
      "Epoch 248 Batch   22/26   train_loss = 1.277\n",
      "Epoch 249 Batch    6/26   train_loss = 1.254\n",
      "Epoch 249 Batch   16/26   train_loss = 1.333\n",
      "Epoch 250 Batch    0/26   train_loss = 1.307\n",
      "Epoch 250 Batch   10/26   train_loss = 1.282\n",
      "Epoch 250 Batch   20/26   train_loss = 1.261\n",
      "Epoch 251 Batch    4/26   train_loss = 1.289\n",
      "Epoch 251 Batch   14/26   train_loss = 1.259\n",
      "Epoch 251 Batch   24/26   train_loss = 1.230\n",
      "Epoch 252 Batch    8/26   train_loss = 1.252\n",
      "Epoch 252 Batch   18/26   train_loss = 1.265\n",
      "Epoch 253 Batch    2/26   train_loss = 1.319\n",
      "Epoch 253 Batch   12/26   train_loss = 1.236\n",
      "Epoch 253 Batch   22/26   train_loss = 1.239\n",
      "Epoch 254 Batch    6/26   train_loss = 1.217\n",
      "Epoch 254 Batch   16/26   train_loss = 1.291\n",
      "Epoch 255 Batch    0/26   train_loss = 1.269\n",
      "Epoch 255 Batch   10/26   train_loss = 1.248\n",
      "Epoch 255 Batch   20/26   train_loss = 1.226\n",
      "Model Trained and Saved\n"
     ]
    }
   ],
   "source": [
    "\"\"\"\n",
    "DON'T MODIFY ANYTHING IN THIS CELL\n",
    "\"\"\"\n",
    "batches = get_batches(int_text, batch_size, seq_length)\n",
    "\n",
    "with tf.Session(graph=train_graph) as sess:\n",
    "    sess.run(tf.global_variables_initializer())\n",
    "\n",
    "    for epoch_i in range(num_epochs):\n",
    "        state = sess.run(initial_state, {input_text: batches[0][0]})\n",
    "\n",
    "        for batch_i, (x, y) in enumerate(batches):\n",
    "            feed = {\n",
    "                input_text: x,\n",
    "                targets: y,\n",
    "                initial_state: state,\n",
    "                lr: learning_rate}\n",
    "            train_loss, state, _ = sess.run([cost, final_state, train_op], feed)\n",
    "\n",
    "            # Show every <show_every_n_batches> batches\n",
    "            if (epoch_i * len(batches) + batch_i) % show_every_n_batches == 0:\n",
    "                print('Epoch {:>3} Batch {:>4}/{}   train_loss = {:.3f}'.format(\n",
    "                    epoch_i,\n",
    "                    batch_i,\n",
    "                    len(batches),\n",
    "                    train_loss))\n",
    "\n",
    "    # Save Model\n",
    "    saver = tf.train.Saver()\n",
    "    saver.save(sess, save_dir)\n",
    "    print('Model Trained and Saved')"
   ]
  },
  {
   "cell_type": "markdown",
   "metadata": {
    "deletable": true,
    "editable": true
   },
   "source": [
    "## Save Parameters\n",
    "Save `seq_length` and `save_dir` for generating a new TV script."
   ]
  },
  {
   "cell_type": "code",
   "execution_count": 233,
   "metadata": {
    "collapsed": false,
    "deletable": true,
    "editable": true
   },
   "outputs": [],
   "source": [
    "\"\"\"\n",
    "DON'T MODIFY ANYTHING IN THIS CELL\n",
    "\"\"\"\n",
    "# Save parameters for checkpoint\n",
    "helper.save_params((seq_length, save_dir))"
   ]
  },
  {
   "cell_type": "markdown",
   "metadata": {
    "deletable": true,
    "editable": true
   },
   "source": [
    "# Checkpoint"
   ]
  },
  {
   "cell_type": "code",
   "execution_count": 234,
   "metadata": {
    "collapsed": false,
    "deletable": true,
    "editable": true
   },
   "outputs": [],
   "source": [
    "\"\"\"\n",
    "DON'T MODIFY ANYTHING IN THIS CELL\n",
    "\"\"\"\n",
    "import tensorflow as tf\n",
    "import numpy as np\n",
    "import helper\n",
    "import problem_unittests as tests\n",
    "\n",
    "_, vocab_to_int, int_to_vocab, token_dict = helper.load_preprocess()\n",
    "seq_length, load_dir = helper.load_params()"
   ]
  },
  {
   "cell_type": "markdown",
   "metadata": {
    "deletable": true,
    "editable": true
   },
   "source": [
    "## Implement Generate Functions\n",
    "### Get Tensors\n",
    "Get tensors from `loaded_graph` using the function [`get_tensor_by_name()`](https://www.tensorflow.org/api_docs/python/tf/Graph#get_tensor_by_name).  Get the tensors using the following names:\n",
    "- \"input:0\"\n",
    "- \"initial_state:0\"\n",
    "- \"final_state:0\"\n",
    "- \"probs:0\"\n",
    "\n",
    "Return the tensors in the following tuple `(InputTensor, InitialStateTensor, FinalStateTensor, ProbsTensor)` "
   ]
  },
  {
   "cell_type": "code",
   "execution_count": 235,
   "metadata": {
    "collapsed": false,
    "deletable": true,
    "editable": true
   },
   "outputs": [
    {
     "name": "stdout",
     "output_type": "stream",
     "text": [
      "Tests Passed\n"
     ]
    }
   ],
   "source": [
    "def get_tensors(loaded_graph):\n",
    "    \"\"\"\n",
    "    Get input, initial state, final state, and probabilities tensor from <loaded_graph>\n",
    "    :param loaded_graph: TensorFlow graph loaded from file\n",
    "    :return: Tuple (InputTensor, InitialStateTensor, FinalStateTensor, ProbsTensor)\n",
    "    \"\"\"\n",
    "    # TODO: Implement Function\n",
    "    input_tensor = loaded_graph.get_tensor_by_name('input:0')\n",
    "    inital_state_tensor = loaded_graph.get_tensor_by_name('initial_state:0')\n",
    "    final_state_tensor = loaded_graph.get_tensor_by_name('final_state:0')\n",
    "    probs_tensor = loaded_graph.get_tensor_by_name('probs:0')\n",
    "    return input_tensor, inital_state_tensor, final_state_tensor, probs_tensor\n",
    "\n",
    "\n",
    "\"\"\"\n",
    "DON'T MODIFY ANYTHING IN THIS CELL THAT IS BELOW THIS LINE\n",
    "\"\"\"\n",
    "tests.test_get_tensors(get_tensors)"
   ]
  },
  {
   "cell_type": "markdown",
   "metadata": {
    "deletable": true,
    "editable": true
   },
   "source": [
    "### Choose Word\n",
    "Implement the `pick_word()` function to select the next word using `probabilities`."
   ]
  },
  {
   "cell_type": "code",
   "execution_count": 236,
   "metadata": {
    "collapsed": false,
    "deletable": true,
    "editable": true
   },
   "outputs": [
    {
     "name": "stdout",
     "output_type": "stream",
     "text": [
      "Tests Passed\n"
     ]
    }
   ],
   "source": [
    "def pick_word(probabilities, int_to_vocab):\n",
    "    \"\"\"\n",
    "    Pick the next word in the generated text\n",
    "    :param probabilities: Probabilites of the next word\n",
    "    :param int_to_vocab: Dictionary of word ids as the keys and words as the values\n",
    "    :return: String of the predicted word\n",
    "    \"\"\"\n",
    "    # TODO: Implement Function\n",
    "    choice = np.random.choice(list(int_to_vocab.values()), 1, p=probabilities)\n",
    "    return choice[0]\n",
    "\n",
    "\n",
    "\"\"\"\n",
    "DON'T MODIFY ANYTHING IN THIS CELL THAT IS BELOW THIS LINE\n",
    "\"\"\"\n",
    "tests.test_pick_word(pick_word)"
   ]
  },
  {
   "cell_type": "markdown",
   "metadata": {
    "deletable": true,
    "editable": true
   },
   "source": [
    "## Generate TV Script\n",
    "This will generate the TV script for you.  Set `gen_length` to the length of TV script you want to generate."
   ]
  },
  {
   "cell_type": "code",
   "execution_count": 237,
   "metadata": {
    "collapsed": false,
    "deletable": true,
    "editable": true
   },
   "outputs": [
    {
     "name": "stdout",
     "output_type": "stream",
     "text": [
      "moe_szyslak: homer, can i ever think you can use that way.\n",
      "moe_szyslak: but i'm thankful i made a mistake, huh?\n",
      "gary_chalmers:(kindly) you're the clone, i know. to the correct?\n",
      "homer_simpson: moe, i don't know everything i know. did.\n",
      "moe_szyslak: i did run ziffcorp into a\" special cheese buffalo gals... anything to meet twenty dollars on fire. jesus must be gettin' back today eating your people loaded.\n",
      "chief_wiggum: absolutely they were never going to offer besides money.\n",
      "homer_simpson:(protesting too many more / but in homer's heart that look at homer. i've gotta get drunk will hello.\n",
      "seymour_skinner:(boisterous nervous, but dignified)...\n",
      "kirk_van_houten: my car is giving me a lot, right? /(sotto;\" reunion in a domed stadium) i'd say when as tonight.(small annoying laugh)\n",
      "nigel_bakerbutcher: what! moe, i bid you-- that went in the beach with me.\n",
      "chief_wiggum: from homer and put a sticker over my.\n",
      "\n"
     ]
    }
   ],
   "source": [
    "gen_length = 200\n",
    "# homer_simpson, moe_szyslak, or Barney_Gumble\n",
    "prime_word = 'moe_szyslak'\n",
    "\n",
    "\"\"\"\n",
    "DON'T MODIFY ANYTHING IN THIS CELL THAT IS BELOW THIS LINE\n",
    "\"\"\"\n",
    "loaded_graph = tf.Graph()\n",
    "with tf.Session(graph=loaded_graph) as sess:\n",
    "    # Load saved model\n",
    "    loader = tf.train.import_meta_graph(load_dir + '.meta')\n",
    "    loader.restore(sess, load_dir)\n",
    "\n",
    "    # Get Tensors from loaded model\n",
    "    input_text, initial_state, final_state, probs = get_tensors(loaded_graph)\n",
    "\n",
    "    # Sentences generation setup\n",
    "    gen_sentences = [prime_word + ':']\n",
    "    prev_state = sess.run(initial_state, {input_text: np.array([[1]])})\n",
    "\n",
    "    # Generate sentences\n",
    "    for n in range(gen_length):\n",
    "        # Dynamic Input\n",
    "        dyn_input = [[vocab_to_int[word] for word in gen_sentences[-seq_length:]]]\n",
    "        dyn_seq_length = len(dyn_input[0])\n",
    "\n",
    "        # Get Prediction\n",
    "        probabilities, prev_state = sess.run(\n",
    "            [probs, final_state],\n",
    "            {input_text: dyn_input, initial_state: prev_state})\n",
    "        \n",
    "        pred_word = pick_word(probabilities[dyn_seq_length-1], int_to_vocab)\n",
    "\n",
    "        gen_sentences.append(pred_word)\n",
    "    \n",
    "    # Remove tokens\n",
    "    tv_script = ' '.join(gen_sentences)\n",
    "    for key, token in token_dict.items():\n",
    "        ending = ' ' if key in ['\\n', '(', '\"'] else ''\n",
    "        tv_script = tv_script.replace(' ' + token.lower(), key)\n",
    "    tv_script = tv_script.replace('\\n ', '\\n')\n",
    "    tv_script = tv_script.replace('( ', '(')\n",
    "        \n",
    "    print(tv_script)"
   ]
  },
  {
   "cell_type": "markdown",
   "metadata": {
    "deletable": true,
    "editable": true
   },
   "source": [
    "# The TV Script is Nonsensical\n",
    "It's ok if the TV script doesn't make any sense.  We trained on less than a megabyte of text.  In order to get good results, you'll have to use a smaller vocabulary or get more data.  Luckly there's more data!  As we mentioned in the begging of this project, this is a subset of [another dataset](https://www.kaggle.com/wcukierski/the-simpsons-by-the-data).  We didn't have you train on all the data, because that would take too long.  However, you are free to train your neural network on all the data.  After you complete the project, of course.\n",
    "# Submitting This Project\n",
    "When submitting this project, make sure to run all the cells before saving the notebook. Save the notebook file as \"dlnd_tv_script_generation.ipynb\" and save it as a HTML file under \"File\" -> \"Download as\". Include the \"helper.py\" and \"problem_unittests.py\" files in your submission."
   ]
  }
 ],
 "metadata": {
  "kernelspec": {
   "display_name": "Python 3",
   "language": "python",
   "name": "python3"
  },
  "language_info": {
   "codemirror_mode": {
    "name": "ipython",
    "version": 3
   },
   "file_extension": ".py",
   "mimetype": "text/x-python",
   "name": "python",
   "nbconvert_exporter": "python",
   "pygments_lexer": "ipython3",
   "version": "3.5.4"
  },
  "widgets": {
   "state": {},
   "version": "1.1.2"
  }
 },
 "nbformat": 4,
 "nbformat_minor": 0
}
